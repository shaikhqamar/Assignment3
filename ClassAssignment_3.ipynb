{
 "cells": [
  {
   "cell_type": "markdown",
   "id": "45ecfb79",
   "metadata": {},
   "source": [
    "## 1) Write a Python program that prints all the numbers from 0 to 6 except 3 and 6"
   ]
  },
  {
   "cell_type": "code",
   "execution_count": 89,
   "id": "fd1af811",
   "metadata": {},
   "outputs": [
    {
     "name": "stdout",
     "output_type": "stream",
     "text": [
      "1 2 4 5 \n",
      "Digits without multiple of 3 and 6\n"
     ]
    }
   ],
   "source": [
    "# using for loop \n",
    "for i in range(0,7):\n",
    "    if i%3==0:\n",
    "        continue\n",
    "    print(i,end=\" \")\n",
    "print(\"\\nDigits without multiple of 3 and 6\")"
   ]
  },
  {
   "cell_type": "code",
   "execution_count": 85,
   "id": "7f9f4fc7",
   "metadata": {},
   "outputs": [
    {
     "name": "stdout",
     "output_type": "stream",
     "text": [
      "1 2 4 5 \n",
      "Digits without multiple of 3 and 6\n"
     ]
    }
   ],
   "source": [
    "# using while loop\n",
    "a = 0\n",
    "while a<=6:\n",
    "    if a%3!=0: \n",
    "        print(a,end=\" \")\n",
    "    a+=1\n",
    "print(\"\\nDigits without multiple of 3 and 6\")"
   ]
  },
  {
   "cell_type": "markdown",
   "id": "fac5169c",
   "metadata": {},
   "source": [
    "## 2) Write a program to accept a number from a user and calculate the sum of all numbers from 1 to a given number"
   ]
  },
  {
   "cell_type": "code",
   "execution_count": 107,
   "id": "438afffa",
   "metadata": {
    "scrolled": true
   },
   "outputs": [
    {
     "name": "stdout",
     "output_type": "stream",
     "text": [
      "Enter the range :6\n",
      "1 2 3 4 5 6 \n",
      "Sum of all numbers : 21\n"
     ]
    }
   ],
   "source": [
    "# using for loop\n",
    "num = int(input(\"Enter the range :\"))\n",
    "temp = 0\n",
    "for i in range(1,num+1): \n",
    "    print(i,end=\" \")\n",
    "    temp = temp + i\n",
    "print(\"\\nSum of all numbers :\",temp)"
   ]
  },
  {
   "cell_type": "code",
   "execution_count": 108,
   "id": "070dae45",
   "metadata": {},
   "outputs": [
    {
     "name": "stdout",
     "output_type": "stream",
     "text": [
      "Enter the range :5\n",
      "1 2 3 4 5 \n",
      "Sum of all numbers : 15\n"
     ]
    }
   ],
   "source": [
    "# using while loop\n",
    "num = int(input(\"Enter the range :\"))\n",
    "a = 0\n",
    "b = 1\n",
    "while b<=num:\n",
    "    print(b,end=\" \")\n",
    "    a += b\n",
    "    b += 1\n",
    "print(\"\\nSum of all numbers :\",a)"
   ]
  },
  {
   "cell_type": "markdown",
   "id": "449a5dff",
   "metadata": {},
   "source": [
    "## 3) Write a program to print multiplication table of a given number(input)"
   ]
  },
  {
   "cell_type": "code",
   "execution_count": 8,
   "id": "fb55d16d",
   "metadata": {},
   "outputs": [
    {
     "name": "stdout",
     "output_type": "stream",
     "text": [
      "Give the number you want the multiplication of : 6\n",
      "6 * 1  = 6\n",
      "6 * 2  = 12\n",
      "6 * 3  = 18\n",
      "6 * 4  = 24\n",
      "6 * 5  = 30\n",
      "6 * 6  = 36\n",
      "6 * 7  = 42\n",
      "6 * 8  = 48\n",
      "6 * 9  = 54\n",
      "6 * 10  = 60\n"
     ]
    }
   ],
   "source": [
    "#using for loop\n",
    "num = int(input(\"Give the number you want the multiplication of : \"))\n",
    "for i in range(1,10+1):\n",
    "    print(\"{} * {}  = {}\".format(num,i,num*i))"
   ]
  },
  {
   "cell_type": "code",
   "execution_count": 91,
   "id": "143aa3d6",
   "metadata": {},
   "outputs": [
    {
     "name": "stdout",
     "output_type": "stream",
     "text": [
      "Give the number you want the multiplication of : 10\n",
      "10 * 1  = 10\n",
      "10 * 2  = 20\n",
      "10 * 3  = 30\n",
      "10 * 4  = 40\n",
      "10 * 5  = 50\n",
      "10 * 6  = 60\n",
      "10 * 7  = 70\n",
      "10 * 8  = 80\n",
      "10 * 9  = 90\n",
      "10 * 10  = 100\n"
     ]
    }
   ],
   "source": [
    "#using while loop\n",
    "num = int(input(\"Give the number you want the multiplication of : \"))\n",
    "i = 1\n",
    "while i<=10:\n",
    "    print(\"{} * {}  = {}\".format(num,i,num*i))\n",
    "    i+=1"
   ]
  },
  {
   "cell_type": "markdown",
   "id": "63bb8762",
   "metadata": {},
   "source": [
    "## 4) Write a program to count the total number of digits in a number using a while loop."
   ]
  },
  {
   "cell_type": "code",
   "execution_count": 109,
   "id": "3e54c2a2",
   "metadata": {},
   "outputs": [
    {
     "name": "stdout",
     "output_type": "stream",
     "text": [
      "enter the numbers 125634\n",
      "There are 6 digits \n"
     ]
    }
   ],
   "source": [
    "# using while loop\n",
    "num = input(\"Enter the numbers \")\n",
    "i=0\n",
    "while i<len(num):\n",
    "    i+=1\n",
    "print(\"There are {} digits \".format(i))"
   ]
  },
  {
   "cell_type": "markdown",
   "id": "1bf48d66",
   "metadata": {},
   "source": [
    "## 5) Write a Python program to guess a number between 1 to<br>Example: <br>User is prompted to enter a guess. If the user guesses wrong then the prompt appears again until the guess is correct, on successful guess, user will get a \"Well guessed!\" message, and the program will exit"
   ]
  },
  {
   "cell_type": "code",
   "execution_count": 25,
   "id": "2ddd3c89",
   "metadata": {},
   "outputs": [
    {
     "name": "stdout",
     "output_type": "stream",
     "text": [
      "Try to guess the number : 66\n",
      "Guess Higher\n",
      "Try again 88\n",
      "Guess Lower\n",
      "Try again 81\n",
      "Guess Lower\n",
      "Try again 75\n",
      "Well Guessed 75 \n",
      "You guessed it in 4 attempts \n"
     ]
    }
   ],
   "source": [
    "# using for loop\n",
    "import random\n",
    "\n",
    "num = random.randint(1, 100)\n",
    "user_guess = int(input(\"Try to guess the number : \"))\n",
    "attempts = 1\n",
    "\n",
    "for i in range(num):\n",
    "    if user_guess < num:\n",
    "        print(\"Guess Higher\")\n",
    "\n",
    "    elif user_guess > num:\n",
    "        print(\"Guess Lower\")\n",
    "       \n",
    "    else:\n",
    "        print(\"Well Guessed {} \\nYou guessed it in {} attempts \".format(user_guess , attempts))\n",
    "        break\n",
    "    user_guess = int(input(\"Try again \")) \n",
    "    attempts+=1"
   ]
  },
  {
   "cell_type": "code",
   "execution_count": 14,
   "id": "796c098f",
   "metadata": {},
   "outputs": [
    {
     "name": "stdout",
     "output_type": "stream",
     "text": [
      "Try to guess the number : 85\n",
      "Guess Lower\n",
      "Try again 77\n",
      "Guess Lower\n",
      "Try again 20\n",
      "Guess Higher\n",
      "Try again 40\n",
      "Guess Higher\n",
      "Try again 50\n",
      "Guess Higher\n",
      "Try again 60\n",
      "Guess Lower\n",
      "Try again 55\n",
      "Guess Higher\n",
      "Try again 59\n",
      "Guess Lower\n",
      "Try again 58\n",
      "Well Guessed 58 \n",
      "You guessed it in 9 attempts \n"
     ]
    }
   ],
   "source": [
    "# using while loop\n",
    "import random\n",
    "\n",
    "num = random.randint(1, 100)\n",
    "user_guess = int(input(\"Try to guess the number : \"))\n",
    "attempts = 1\n",
    "while user_guess != num:\n",
    "    if user_guess < num:\n",
    "        print(\"Guess Higher\")\n",
    "    else:\n",
    "        print(\"Guess Lower\")\n",
    "    user_guess = int(input(\"Try again \"))\n",
    "    attempts+=1\n",
    "print(\"Well Guessed {} \\nYou guessed it in {} attempts \".format(user_guess , attempts))\n"
   ]
  },
  {
   "cell_type": "markdown",
   "id": "1253e22f",
   "metadata": {},
   "source": [
    "## 6) Write a Python program which iterates the integers from 1 to 60. For multiples of three print \"Fizz\" instead of the number and for the multiples of five print \"Buzz\". For numbers which are multiples of both three and five print \"FizzBuzz\"."
   ]
  },
  {
   "cell_type": "code",
   "execution_count": 47,
   "id": "d1db4081",
   "metadata": {},
   "outputs": [
    {
     "name": "stdout",
     "output_type": "stream",
     "text": [
      "1\n",
      "2\n",
      "Fizz\n",
      "4\n",
      "Buzz\n",
      "Fizz\n",
      "7\n",
      "8\n",
      "Fizz\n",
      "Buzz\n",
      "11\n",
      "Fizz\n",
      "13\n",
      "14\n",
      "FizzBuzz\n",
      "16\n",
      "17\n",
      "Fizz\n",
      "19\n",
      "Buzz\n",
      "Fizz\n",
      "22\n",
      "23\n",
      "Fizz\n",
      "Buzz\n",
      "26\n",
      "Fizz\n",
      "28\n",
      "29\n",
      "FizzBuzz\n",
      "31\n",
      "32\n",
      "Fizz\n",
      "34\n",
      "Buzz\n",
      "Fizz\n",
      "37\n",
      "38\n",
      "Fizz\n",
      "Buzz\n",
      "41\n",
      "Fizz\n",
      "43\n",
      "44\n",
      "FizzBuzz\n",
      "46\n",
      "47\n",
      "Fizz\n",
      "49\n",
      "Buzz\n",
      "Fizz\n",
      "52\n",
      "53\n",
      "Fizz\n",
      "Buzz\n",
      "56\n",
      "Fizz\n",
      "58\n",
      "59\n",
      "FizzBuzz\n"
     ]
    }
   ],
   "source": [
    "# using for loop\n",
    "for i in range(1,60+1):\n",
    "    if i%3==0 and i%5==0:\n",
    "        print(\"FizzBuzz\")\n",
    "        continue\n",
    "    elif i%5==0:\n",
    "        print(\"Buzz\")\n",
    "        continue\n",
    "    elif i%3==0:\n",
    "        print(\"Fizz\")\n",
    "        continue\n",
    "    print (i)"
   ]
  },
  {
   "cell_type": "code",
   "execution_count": 56,
   "id": "f070d86e",
   "metadata": {},
   "outputs": [
    {
     "name": "stdout",
     "output_type": "stream",
     "text": [
      "Give the range : 60\n",
      "1\n",
      "2\n",
      "Fizz\n",
      "4\n",
      "Buzz\n",
      "Fizz\n",
      "7\n",
      "8\n",
      "Fizz\n",
      "Buzz\n",
      "11\n",
      "Fizz\n",
      "13\n",
      "14\n",
      "FizzBuzz\n",
      "16\n",
      "17\n",
      "Fizz\n",
      "19\n",
      "Buzz\n",
      "Fizz\n",
      "22\n",
      "23\n",
      "Fizz\n",
      "Buzz\n",
      "26\n",
      "Fizz\n",
      "28\n",
      "29\n",
      "FizzBuzz\n",
      "31\n",
      "32\n",
      "Fizz\n",
      "34\n",
      "Buzz\n",
      "Fizz\n",
      "37\n",
      "38\n",
      "Fizz\n",
      "Buzz\n",
      "41\n",
      "Fizz\n",
      "43\n",
      "44\n",
      "FizzBuzz\n",
      "46\n",
      "47\n",
      "Fizz\n",
      "49\n",
      "Buzz\n",
      "Fizz\n",
      "52\n",
      "53\n",
      "Fizz\n",
      "Buzz\n",
      "56\n",
      "Fizz\n",
      "58\n",
      "59\n",
      "FizzBuzz\n"
     ]
    }
   ],
   "source": [
    "# using while loop\n",
    "num = int(input(\"Give the range : \"))\n",
    "i=1\n",
    "while i<num+1:\n",
    "    if i%3==0 and i%5==0:\n",
    "        print(\"FizzBuzz\")\n",
    "        i+=1\n",
    "        continue\n",
    "    elif i%5==0:\n",
    "        print(\"Buzz\")\n",
    "        i+=1\n",
    "        continue\n",
    "    elif i%3==0:\n",
    "        print(\"Fizz\")\n",
    "        i+=1\n",
    "        continue\n",
    "    print (i)\n",
    "    i+=1"
   ]
  },
  {
   "cell_type": "markdown",
   "id": "4d28356b",
   "metadata": {},
   "source": [
    "## 7) Write a Python program that accepts a string and calculate the number of digits and letters<br>Example:<br>Input<br>Python 3.2<br>Output<br>Letters 6<br>Digits 2"
   ]
  },
  {
   "cell_type": "code",
   "execution_count": 58,
   "id": "03e0edaf",
   "metadata": {},
   "outputs": [
    {
     "name": "stdout",
     "output_type": "stream",
     "text": [
      "Type the string including digit : qamae@345@ shaikh\n",
      "Letters are 11\n",
      "Digits are 3\n"
     ]
    }
   ],
   "source": [
    "# using for loop\n",
    "user_input = input(\"Type the string including digit : \")\n",
    "letters = 0 \n",
    "digit = 0\n",
    "for i in user_input:\n",
    "    if i.isdigit():\n",
    "        digit+=1\n",
    "    elif i.isalpha():\n",
    "        letters+=1\n",
    "    else:\n",
    "        continue\n",
    "print('''Letters are {}\n",
    "Digits are {}'''.format(letters,digit))"
   ]
  },
  {
   "cell_type": "code",
   "execution_count": 1,
   "id": "80c9cdd7",
   "metadata": {},
   "outputs": [
    {
     "name": "stdout",
     "output_type": "stream",
     "text": [
      "Type the string including digit : qamar123\n",
      "Letters are 5\n",
      "Digits are 3\n"
     ]
    }
   ],
   "source": [
    "# using while loop\n",
    "user_input = input(\"Type the string including digit : \")\n",
    "letters = 0 \n",
    "digit = 0\n",
    "i=0\n",
    "while i<len(user_input):\n",
    "    if user_input[i].isdigit():\n",
    "        digit+=1\n",
    "    elif user_input[i].isalpha():\n",
    "        letters+=1\n",
    "    else:\n",
    "        continue\n",
    "    i+=1\n",
    "print('''Letters are {}\n",
    "Digits are {}'''.format(letters,digit))"
   ]
  },
  {
   "cell_type": "markdown",
   "id": "87da65d7",
   "metadata": {},
   "source": [
    "## 8) Write a Python program to check the validity of password input by users.<br>Validation:<br>At least 1 letter between [a-z] and 1 letter between [A-Z].<br>At least 1 number between [0-9].<br>At least 1 character from [$#@]<br>Minimum length 6 characters.<br>Maximum length 16 characters."
   ]
  },
  {
   "cell_type": "code",
   "execution_count": 51,
   "id": "d7024654",
   "metadata": {},
   "outputs": [
    {
     "name": "stdout",
     "output_type": "stream",
     "text": [
      "Type your password : qamar123\n",
      "Invalid Password : \n"
     ]
    }
   ],
   "source": [
    "def pass_chekcher():\n",
    "\n",
    "    spcl_char = 0\n",
    "    digit = 0\n",
    "    upper_alpha = 0\n",
    "    for i in password:\n",
    "        \n",
    "        if i.isupper():\n",
    "            upper_alpha+=1\n",
    "        elif i.isdigit():\n",
    "            digit+=1\n",
    "        elif i in [\"@\",\"#\",\"$\"]:\n",
    "            spcl_char+=1\n",
    "        #else:\n",
    "        #    password = input(\"Atleast one character should be capital : \")\n",
    "    \n",
    "        #else:\n",
    "        #    password = input(\"Atleast one character should be digital : \")\n",
    "\n",
    "        #else:\n",
    "        #    password = input(\"Atleast one character should be an special character : \")\n",
    "    \n",
    "    if spcl_char>0 and digit>0 and upper_alpha>0 :\n",
    "        print(\"Valid Password\")\n",
    "    else:\n",
    "        print(\"Invalid Password : \")\n",
    "                \n",
    "    \n",
    "    \n",
    "password = input(\"Type your password : \")\n",
    "if len(password)<6:\n",
    "    print(\"Password is too short , It must be atleast 6 character :\")\n",
    "elif len(password)>16:\n",
    "    print(\"Password id too long, it must be lesser than 16 char :\")\n",
    "pass_chekcher()"
   ]
  },
  {
   "cell_type": "markdown",
   "id": "4b663eaa",
   "metadata": {},
   "source": [
    "## 9) Write a program in Python to reverse a word by using while loop"
   ]
  },
  {
   "cell_type": "code",
   "execution_count": 94,
   "id": "e13bd6b8",
   "metadata": {},
   "outputs": [
    {
     "name": "stdout",
     "output_type": "stream",
     "text": [
      "Type ur string: QAMARZ\n",
      "ZRAMAQ\n"
     ]
    }
   ],
   "source": [
    "user_word = input(\"Type ur string: \")\n",
    "i=len(user_word)-1\n",
    "rev_word = \"\"\n",
    "while i >= 0:\n",
    "    rev_word+=user_word[i]\n",
    "    i-=1\n",
    "print(rev_word)"
   ]
  },
  {
   "cell_type": "code",
   "execution_count": null,
   "id": "ff663668",
   "metadata": {},
   "outputs": [],
   "source": []
  },
  {
   "cell_type": "markdown",
   "id": "66bbb516",
   "metadata": {},
   "source": [
    "## 10) Write a program which takes 10 integers as input using loop and print their average value on the screen"
   ]
  },
  {
   "cell_type": "code",
   "execution_count": 95,
   "id": "1d812e1c",
   "metadata": {},
   "outputs": [
    {
     "name": "stdout",
     "output_type": "stream",
     "text": [
      "Range upto you want integers : 10\n",
      "give 1 number : 0\n",
      "give 2 number : 1\n",
      "give 3 number : 2\n",
      "give 4 number : 3\n",
      "give 5 number : 4\n",
      "give 6 number : 5\n",
      "give 7 number : 6\n",
      "give 8 number : 7\n",
      "give 9 number : 8\n",
      "give 10 number : 9\n",
      "average of all given numbers is : 4\n"
     ]
    }
   ],
   "source": [
    "def avg():\n",
    "    lst = []\n",
    "    num_range = int(input(\"Range upto you want integers : \"))\n",
    "    for i in range(1,num_range+1):\n",
    "        num = int(input(\"give {} number : \".format(i)))\n",
    "        lst.append(num)\n",
    "    print('average of all given numbers is :',sum(lst)//len(lst))\n",
    "avg()"
   ]
  },
  {
   "cell_type": "markdown",
   "id": "f89e3440",
   "metadata": {},
   "source": [
    "## 11) Write a program which takes integer inputs from user until he/she presses “q” (Ask to press q to quit after every integer input). Print average and product of all numbers."
   ]
  },
  {
   "cell_type": "code",
   "execution_count": 26,
   "id": "6455e9e5",
   "metadata": {},
   "outputs": [
    {
     "name": "stdout",
     "output_type": "stream",
     "text": [
      "Range upto you want integers : 4\n",
      "\n",
      "Press 'q' to quit 'c' to continue : c\n",
      "\n",
      "give 1 number : 4\n",
      "\n",
      "Press 'q' to quit 'c' to continue : c\n",
      "\n",
      "give 2 number : 5\n",
      "\n",
      "Press 'q' to quit 'c' to continue : c\n",
      "\n",
      "give 3 number : 8\n",
      "\n",
      "Press 'q' to quit 'c' to continue : c\n",
      "\n",
      "give 4 number : 7\n",
      "[4, 5, 8, 7]\n",
      "\n",
      "average of all given numbers is : 6\n",
      "\n",
      "Product of all given numbers is : 1120\n"
     ]
    }
   ],
   "source": [
    "num_range = int(input(\"Range upto you want integers : \"))\n",
    "lst = []\n",
    "\n",
    "def pro():\n",
    "    tmp = 1\n",
    "    for i in lst:\n",
    "        tmp=tmp*i\n",
    "    return tmp\n",
    "\n",
    "def avg_product():\n",
    "\n",
    "    for i in range(1,num_range+1):\n",
    "        \n",
    "        choice = input(\"\\nPress 'q' to quit 'c' to continue : \")\n",
    "       \n",
    "        if choice == \"q\":\n",
    "            break\n",
    "        elif choice == \"c\":\n",
    "            num = int(input(\"\\ngive {} number : \".format(i)))\n",
    "            lst.append(num)\n",
    "    \n",
    "    print(lst)\n",
    "    print('\\naverage of all given numbers is :',sum(lst)//len(lst))\n",
    "    print('\\nProduct of all given numbers is :',pro())\n",
    "\n",
    "avg_product()"
   ]
  },
  {
   "cell_type": "markdown",
   "id": "e52f9e3d",
   "metadata": {},
   "source": [
    "## 12) Write a Python program which will remove all digits or any other characters from the string except alphabets<br>Example:<br>Input:<br>“asd12.asd22”<br>Output:<br>'asdasd'"
   ]
  },
  {
   "cell_type": "code",
   "execution_count": 52,
   "id": "f5a64870",
   "metadata": {},
   "outputs": [
    {
     "name": "stdout",
     "output_type": "stream",
     "text": [
      "Type any String : asd.12@qw\n",
      "asdqw\n"
     ]
    }
   ],
   "source": [
    "# using for loop\n",
    "user_str = input(\"Type any String : \")\n",
    "only_alpha = \"\"\n",
    "for i in user_str:\n",
    "    if i.isalpha():\n",
    "        only_alpha+=i\n",
    "    else:\n",
    "        continue\n",
    "print(only_alpha)"
   ]
  },
  {
   "cell_type": "code",
   "execution_count": 59,
   "id": "a1be774e",
   "metadata": {},
   "outputs": [
    {
     "name": "stdout",
     "output_type": "stream",
     "text": [
      "Type any String : asd.12@qw\n",
      "asdqw\n"
     ]
    }
   ],
   "source": [
    "# using while loop\n",
    "user_str = input(\"Type any String : \")\n",
    "only_alpha = \"\"\n",
    "i = 0\n",
    "while i<len(user_str):\n",
    "    if user_str[i].isalpha():\n",
    "        only_alpha+=user_str[i]\n",
    "    i+=1\n",
    "print(only_alpha)"
   ]
  },
  {
   "cell_type": "markdown",
   "id": "db37c715",
   "metadata": {},
   "source": [
    "## 13) Write a python program to find the sum of all even numbers from 0 to 10"
   ]
  },
  {
   "cell_type": "code",
   "execution_count": 76,
   "id": "827defa9",
   "metadata": {},
   "outputs": [],
   "source": [
    "ls = [i for i in range(0,11,2)]"
   ]
  },
  {
   "cell_type": "code",
   "execution_count": 79,
   "id": "946f6e21",
   "metadata": {},
   "outputs": [
    {
     "name": "stdout",
     "output_type": "stream",
     "text": [
      "30\n"
     ]
    }
   ],
   "source": [
    "# using for loop\n",
    "tmp = 0\n",
    "for i in ls:\n",
    "    tmp += i\n",
    "print(tmp)"
   ]
  },
  {
   "cell_type": "code",
   "execution_count": 97,
   "id": "91a9ff0f",
   "metadata": {},
   "outputs": [
    {
     "name": "stdout",
     "output_type": "stream",
     "text": [
      "30\n"
     ]
    }
   ],
   "source": [
    "# using while loop\n",
    "tmp = 0\n",
    "i=0\n",
    "while i<len(ls):\n",
    "    tmp += ls[i]\n",
    "    i+=1\n",
    "print(tmp)"
   ]
  },
  {
   "cell_type": "markdown",
   "id": "a3aaded4",
   "metadata": {},
   "source": [
    "## 14) Write a python program which will accept a digit and print All the numbers before it till 0<br>Example:<br>Input:<br>5<br>Output:<br>4<br>3<br>2<br>1<br>0"
   ]
  },
  {
   "cell_type": "code",
   "execution_count": 14,
   "id": "3a0f7fc6",
   "metadata": {},
   "outputs": [
    {
     "name": "stdout",
     "output_type": "stream",
     "text": [
      "Enter your number : 5\n"
     ]
    },
    {
     "ename": "TypeError",
     "evalue": "'int' object is not reversible",
     "output_type": "error",
     "traceback": [
      "\u001b[0;31m---------------------------------------------------------------------------\u001b[0m",
      "\u001b[0;31mTypeError\u001b[0m                                 Traceback (most recent call last)",
      "\u001b[0;32m<ipython-input-14-d16c11902411>\u001b[0m in \u001b[0;36m<module>\u001b[0;34m\u001b[0m\n\u001b[1;32m      2\u001b[0m \u001b[0mnum\u001b[0m \u001b[0;34m=\u001b[0m \u001b[0mint\u001b[0m\u001b[0;34m(\u001b[0m\u001b[0minput\u001b[0m\u001b[0;34m(\u001b[0m\u001b[0;34m\"Enter your number : \"\u001b[0m\u001b[0;34m)\u001b[0m\u001b[0;34m)\u001b[0m\u001b[0;34m\u001b[0m\u001b[0;34m\u001b[0m\u001b[0m\n\u001b[1;32m      3\u001b[0m \u001b[0;34m\u001b[0m\u001b[0m\n\u001b[0;32m----> 4\u001b[0;31m \u001b[0;32mfor\u001b[0m \u001b[0mnum\u001b[0m \u001b[0;32min\u001b[0m \u001b[0mrange\u001b[0m\u001b[0;34m(\u001b[0m\u001b[0mreversed\u001b[0m\u001b[0;34m(\u001b[0m\u001b[0mnum\u001b[0m\u001b[0;34m)\u001b[0m\u001b[0;34m)\u001b[0m\u001b[0;34m:\u001b[0m\u001b[0;34m\u001b[0m\u001b[0;34m\u001b[0m\u001b[0m\n\u001b[0m\u001b[1;32m      5\u001b[0m     \u001b[0mprint\u001b[0m\u001b[0;34m(\u001b[0m\u001b[0mnum\u001b[0m\u001b[0;34m)\u001b[0m\u001b[0;34m\u001b[0m\u001b[0;34m\u001b[0m\u001b[0m\n",
      "\u001b[0;31mTypeError\u001b[0m: 'int' object is not reversible"
     ]
    }
   ],
   "source": [
    "# using for loop\n",
    "num = int(input(\"Enter your number : \"))\n",
    "\n",
    "for num in range(reversed(num)):\n",
    "    print(num)"
   ]
  },
  {
   "cell_type": "code",
   "execution_count": 104,
   "id": "03ffebb0",
   "metadata": {},
   "outputs": [
    {
     "name": "stdout",
     "output_type": "stream",
     "text": [
      "Enter your number : 5\n",
      "5\n",
      "4\n",
      "3\n",
      "2\n",
      "1\n",
      "0\n"
     ]
    }
   ],
   "source": [
    "# using while loop\n",
    "num = int(input(\"Enter your number : \"))\n",
    "while num>=0:\n",
    "    print(num)\n",
    "    num-=1\n",
    "    "
   ]
  },
  {
   "cell_type": "markdown",
   "id": "4eae794b",
   "metadata": {},
   "source": [
    "## 15) Create a dynamic calculator which will run continually till you press “c”"
   ]
  },
  {
   "cell_type": "code",
   "execution_count": 28,
   "id": "d311601b",
   "metadata": {},
   "outputs": [
    {
     "name": "stdout",
     "output_type": "stream",
     "text": [
      "Press C for quit , F for further : 4\n",
      "Wrong input\n",
      "Press C for quit , F for further : f\n",
      "1st value : 4\n",
      "Sign : +\n",
      "2nd value : 4\n",
      "4+4 = 8\n",
      "Press C for quit , F for further : f\n",
      "1st value : 8\n",
      "Sign : *\n",
      "2nd value : 8\n",
      "8*8 = 64\n",
      "Press C for quit , F for further : f\n",
      "1st value : 15\n",
      "Sign : /\n",
      "2nd value : 3\n",
      "15/3 = 5.0\n",
      "Press C for quit , F for further : c\n"
     ]
    }
   ],
   "source": [
    "def calculate():\n",
    "    a=int(input(\"1st value : \"))\n",
    "    sign=input(\"Sign : \")\n",
    "    b=int(input(\"2nd value : \"))\n",
    "    if sign==\"+\":\n",
    "        print(\"{}{}{} =\".format(a,sign,b),a+b)\n",
    "    elif sign==\"-\":\n",
    "        print(\"{}{}{} =\".format(a,sign,b),a-b)\n",
    "    elif sign==\"*\":\n",
    "        print(\"{}{}{} =\".format(a,sign,b),a*b)\n",
    "    elif sign==\"/\":\n",
    "        print(\"{}{}{} =\".format(a,sign,b),a/b)\n",
    "    elif sign==\"%\":\n",
    "        print(\"{}{}{} =\".format(a,sign,b),a%b)\n",
    "    elif sign==\"**\":\n",
    "        print(\"{}{}{} =\".format(a,sign,b),a**b)\n",
    "\n",
    "    \n",
    "while True:\n",
    "    ask = input(\"Press C for quit , F for further : \")\n",
    "    if ask == \"c\":\n",
    "        break\n",
    "    elif ask == \"f\":\n",
    "        calculate()\n",
    "    else:\n",
    "        print(\"Wrong input\")\n",
    "        "
   ]
  },
  {
   "cell_type": "code",
   "execution_count": null,
   "id": "1d4a54f3",
   "metadata": {},
   "outputs": [],
   "source": []
  },
  {
   "cell_type": "code",
   "execution_count": null,
   "id": "ad6763fb",
   "metadata": {},
   "outputs": [],
   "source": []
  }
 ],
 "metadata": {
  "kernelspec": {
   "display_name": "Python 3",
   "language": "python",
   "name": "python3"
  },
  "language_info": {
   "codemirror_mode": {
    "name": "ipython",
    "version": 3
   },
   "file_extension": ".py",
   "mimetype": "text/x-python",
   "name": "python",
   "nbconvert_exporter": "python",
   "pygments_lexer": "ipython3",
   "version": "3.8.10"
  }
 },
 "nbformat": 4,
 "nbformat_minor": 5
}
